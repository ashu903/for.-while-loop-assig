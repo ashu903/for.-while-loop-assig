{
 "cells": [
  {
   "cell_type": "code",
   "execution_count": 2,
   "id": "eb2edec7-0189-4b8a-8906-8210ee1990e9",
   "metadata": {},
   "outputs": [
    {
     "name": "stdout",
     "output_type": "stream",
     "text": [
      "1\n",
      "2\n",
      "3\n",
      "4\n",
      "5\n"
     ]
    }
   ],
   "source": [
    "# 1. Print numbers from 1 to 5 using a while loop.\n",
    "\n",
    "# Ans \n",
    "i = 1\n",
    "while i <= 5:  # output: i = 1 , 1<=5 print(1) , i = 2 , 2<=5 print(2) , .......... i = 5 , 5<=5 , print(5) .\n",
    "    print(i)\n",
    "    i = i+1"
   ]
  },
  {
   "cell_type": "code",
   "execution_count": 9,
   "id": "a74ce928-af9c-4164-b14c-0be03153f6a3",
   "metadata": {},
   "outputs": [
    {
     "name": "stdout",
     "output_type": "stream",
     "text": [
      "The sum of numbers from 1 to 10 is: 55\n"
     ]
    }
   ],
   "source": [
    "# 2. Calculate the sum of numbers from 1 to 10 using a while loop.   \n",
    "# Ans-\n",
    "\n",
    "i = 1\n",
    "sum = 0\n",
    "while i <= 10:\n",
    "    sum += i\n",
    "    i += 1\n",
    "print(\"The sum of numbers from 1 to 10 is:\", sum)\n",
    "\n",
    "    \n",
    "\n",
    "\n",
    "\n",
    "    \n"
   ]
  },
  {
   "cell_type": "code",
   "execution_count": 4,
   "id": "3a83124b-ca49-4a7f-9071-23cfe8c14211",
   "metadata": {},
   "outputs": [
    {
     "name": "stdin",
     "output_type": "stream",
     "text": [
      "Enter a number to calculate its factorial:  6\n"
     ]
    },
    {
     "name": "stdout",
     "output_type": "stream",
     "text": [
      "The factorial of 6 is 720\n"
     ]
    }
   ],
   "source": [
    "# 3. Calclate the factorial of a number using a for loop.\n",
    "# Ans- \n",
    "def factorial(n):\n",
    "    result = 1\n",
    "    for i in range(1, n + 1):\n",
    "        result *= i\n",
    "    return result\n",
    "number = int(input(\"Enter a number to calculate its factorial: \"))\n",
    "fact = factorial(number)\n",
    "print(\"The factorial of\", number, \"is\", fact)\n"
   ]
  },
  {
   "cell_type": "code",
   "execution_count": 6,
   "id": "d6dee3b2-d271-4931-8196-afa20c6752fb",
   "metadata": {},
   "outputs": [
    {
     "name": "stdin",
     "output_type": "stream",
     "text": [
      "Enter a string:  Education\n"
     ]
    },
    {
     "name": "stdout",
     "output_type": "stream",
     "text": [
      "Number of vowels in the string: 5\n"
     ]
    }
   ],
   "source": [
    "# 4. Count the number of vowels in a string using a for loop.\n",
    "# Ans - \n",
    "def count_vowels(string):\n",
    "    vowel_count = 0\n",
    "    vowels = ['a', 'e', 'i', 'o', 'u']\n",
    "    string = string.lower()\n",
    "    for char in string:\n",
    "        if char in vowels:\n",
    "            vowel_count += 1\n",
    "    return vowel_count\n",
    "input_string = input(\"Enter a string: \")\n",
    "vowel_count = count_vowels(input_string)\n",
    "print(\"Number of vowels in the string:\", vowel_count)\n"
   ]
  },
  {
   "cell_type": "code",
   "execution_count": 8,
   "id": "969c9641-6373-408a-982f-7e1df6ccc5ae",
   "metadata": {},
   "outputs": [
    {
     "name": "stdout",
     "output_type": "stream",
     "text": [
      "* \n",
      "* * \n",
      "* * * \n",
      "* * * * \n",
      "* * * * * \n",
      "* * * * * * \n",
      "* * * * * * * \n",
      "* * * * * * * * \n",
      "* * * * * * * * * \n",
      "* * * * * * * * * * \n"
     ]
    }
   ],
   "source": [
    "# 5. Print a pattern using nested loops.\n",
    "# Ans - \n",
    "\n",
    "# Define the number of rows for the pattern\n",
    "num_rows = 10\n",
    "for i in range(num_rows):\n",
    "    for j in range(i + 1):\n",
    "        print(\"*\", end=\" \")  \n",
    "    print()\n"
   ]
  },
  {
   "cell_type": "code",
   "execution_count": 11,
   "id": "cce2eadb-cf70-4c84-ad54-b260d0db8c21",
   "metadata": {},
   "outputs": [
    {
     "name": "stdout",
     "output_type": "stream",
     "text": [
      "1\t2\t3\t4\t5\t6\t7\t8\t\n",
      "2\t4\t6\t8\t10\t12\t14\t16\t\n",
      "3\t6\t9\t12\t15\t18\t21\t24\t\n",
      "4\t8\t12\t16\t20\t24\t28\t32\t\n",
      "5\t10\t15\t20\t25\t30\t35\t40\t\n",
      "6\t12\t18\t24\t30\t36\t42\t48\t\n",
      "7\t14\t21\t28\t35\t42\t49\t56\t\n",
      "8\t16\t24\t32\t40\t48\t56\t64\t\n"
     ]
    }
   ],
   "source": [
    "# 6. Generate a mltiplication table using nested loops.\n",
    "# Ans- \n",
    "start = 1\n",
    "end = 8\n",
    "for i in range(start, end + 1):\n",
    "    for j in range(start, end + 1):\n",
    "        print(i * j, end=\"\\t\")\n",
    "    print()\n"
   ]
  },
  {
   "cell_type": "code",
   "execution_count": null,
   "id": "cfdec4d8-9576-44f5-8e1c-3938126b0b43",
   "metadata": {},
   "outputs": [],
   "source": []
  }
 ],
 "metadata": {
  "kernelspec": {
   "display_name": "Python 3 (ipykernel)",
   "language": "python",
   "name": "python3"
  },
  "language_info": {
   "codemirror_mode": {
    "name": "ipython",
    "version": 3
   },
   "file_extension": ".py",
   "mimetype": "text/x-python",
   "name": "python",
   "nbconvert_exporter": "python",
   "pygments_lexer": "ipython3",
   "version": "3.10.8"
  }
 },
 "nbformat": 4,
 "nbformat_minor": 5
}
